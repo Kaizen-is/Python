{
  "nbformat": 4,
  "nbformat_minor": 0,
  "metadata": {
    "colab": {
      "provenance": []
    },
    "kernelspec": {
      "name": "python3",
      "display_name": "Python 3"
    },
    "language_info": {
      "name": "python"
    }
  },
  "cells": [
    {
      "cell_type": "markdown",
      "source": [
        "### Different types of Patterns"
      ],
      "metadata": {
        "id": "EsI__SOjUKj3"
      }
    },
    {
      "cell_type": "markdown",
      "source": [
        "--------------------------------------------------------------------------------"
      ],
      "metadata": {
        "id": "lFMGLZ3dlXwE"
      }
    },
    {
      "cell_type": "markdown",
      "source": [
        "### Squeare"
      ],
      "metadata": {
        "id": "i0kSXCAqlZLV"
      }
    },
    {
      "cell_type": "code",
      "source": [
        "n = int(input(\"n: \"))\n",
        "\n",
        "for i in range(n):\n",
        "  for j in range(0, n):\n",
        "    print(\"*\", end = \" \")\n",
        "  print()\n"
      ],
      "metadata": {
        "colab": {
          "base_uri": "https://localhost:8080/"
        },
        "id": "o57C_33WlYut",
        "outputId": "1cc298bc-6be2-4f71-bb99-9831c0853ff8"
      },
      "execution_count": null,
      "outputs": [
        {
          "output_type": "stream",
          "name": "stdout",
          "text": [
            "n: 6\n",
            "* * * * * * \n",
            "* * * * * * \n",
            "* * * * * * \n",
            "* * * * * * \n",
            "* * * * * * \n",
            "* * * * * * \n"
          ]
        }
      ]
    },
    {
      "cell_type": "markdown",
      "source": [
        "--------------------------------------------------------------------------------"
      ],
      "metadata": {
        "id": "i8_z8j-DUajm"
      }
    },
    {
      "cell_type": "markdown",
      "source": [
        "### Right Triangle"
      ],
      "metadata": {
        "id": "-zyWjGQFUdIf"
      }
    },
    {
      "cell_type": "code",
      "execution_count": null,
      "metadata": {
        "colab": {
          "base_uri": "https://localhost:8080/"
        },
        "id": "tXDpQl8NT-U-",
        "outputId": "ec04bf8b-b9c6-4f99-f9e7-475f05c7a4cd"
      },
      "outputs": [
        {
          "output_type": "stream",
          "name": "stdout",
          "text": [
            "n: 6\n",
            "* \n",
            "* * \n",
            "* * * \n",
            "* * * * \n",
            "* * * * * \n",
            "* * * * * * \n"
          ]
        }
      ],
      "source": [
        "n = int(input(\"n: \"))\n",
        "\n",
        "for i in range(n):\n",
        "  for j in range(i + 1):\n",
        "    print(\"*\", end = \" \")\n",
        "  print()"
      ]
    },
    {
      "cell_type": "markdown",
      "source": [
        "--------------------------------------------------------------------------------"
      ],
      "metadata": {
        "id": "g-QUoELHU4Er"
      }
    },
    {
      "cell_type": "markdown",
      "source": [
        "### Left Triangle"
      ],
      "metadata": {
        "id": "4ph1mKtMU55j"
      }
    },
    {
      "cell_type": "code",
      "source": [
        "n = int(input(\"n: \"))\n",
        "\n",
        "for i in range(n):\n",
        "  for j in range(i, n):\n",
        "    print(\" \", end = \" \")\n",
        "  for j in range(i + 1):\n",
        "    print(\"*\", end = \" \")\n",
        "  print()"
      ],
      "metadata": {
        "colab": {
          "base_uri": "https://localhost:8080/"
        },
        "id": "rdyr7ZrtU9Sw",
        "outputId": "7c4d6d0a-20a4-4ad3-895a-20119f2ade32"
      },
      "execution_count": null,
      "outputs": [
        {
          "output_type": "stream",
          "name": "stdout",
          "text": [
            "n: 7\n",
            "              * \n",
            "            * * \n",
            "          * * * \n",
            "        * * * * \n",
            "      * * * * * \n",
            "    * * * * * * \n",
            "  * * * * * * * \n"
          ]
        }
      ]
    },
    {
      "cell_type": "markdown",
      "source": [
        "--------------------------------------------------------------------------------"
      ],
      "metadata": {
        "id": "72Hjxw5tVU2T"
      }
    },
    {
      "cell_type": "markdown",
      "source": [
        "### Right Downward Triangle"
      ],
      "metadata": {
        "id": "0YDOJ_u1VV2g"
      }
    },
    {
      "cell_type": "code",
      "source": [
        "n = int(input(\"n: \"))\n",
        "\n",
        "for i in range(n):\n",
        "  for j in range(i, n):\n",
        "    print(\"*\", end = \" \")\n",
        "  print()"
      ],
      "metadata": {
        "colab": {
          "base_uri": "https://localhost:8080/"
        },
        "id": "sJciT2hnVQjd",
        "outputId": "10daecce-3242-4314-ae25-0ce0bac50f2e"
      },
      "execution_count": null,
      "outputs": [
        {
          "output_type": "stream",
          "name": "stdout",
          "text": [
            "n: 7\n",
            "* * * * * * * \n",
            "* * * * * * \n",
            "* * * * * \n",
            "* * * * \n",
            "* * * \n",
            "* * \n",
            "* \n"
          ]
        }
      ]
    },
    {
      "cell_type": "markdown",
      "source": [
        "--------------------------------------------------------------------------------"
      ],
      "metadata": {
        "id": "MOOIPOfGVv1u"
      }
    },
    {
      "cell_type": "markdown",
      "source": [
        "### Left Downward Triangle"
      ],
      "metadata": {
        "id": "C5m0X39aVwoW"
      }
    },
    {
      "cell_type": "code",
      "source": [
        "n = int(input(\"n: \"))\n",
        "\n",
        "for i in range(n):\n",
        "  for j in range(i + 1):\n",
        "    print(\" \", end = \" \")\n",
        "  for j in range(i, n):\n",
        "    print(\"*\", end = \" \")\n",
        "  print()"
      ],
      "metadata": {
        "colab": {
          "base_uri": "https://localhost:8080/"
        },
        "id": "Owt592oMV-Iw",
        "outputId": "f67ef4d7-ef82-4257-a941-97a953238417"
      },
      "execution_count": null,
      "outputs": [
        {
          "output_type": "stream",
          "name": "stdout",
          "text": [
            "n: 7\n",
            "  * * * * * * * \n",
            "    * * * * * * \n",
            "      * * * * * \n",
            "        * * * * \n",
            "          * * * \n",
            "            * * \n",
            "              * \n"
          ]
        }
      ]
    },
    {
      "cell_type": "markdown",
      "source": [
        "### Pyramid"
      ],
      "metadata": {
        "id": "efvhAlcEWbT8"
      }
    },
    {
      "cell_type": "markdown",
      "source": [
        "--------------------------------------------------------------------------------"
      ],
      "metadata": {
        "id": "6tJYEt_iWQNp"
      }
    },
    {
      "cell_type": "code",
      "source": [
        "n = int(input(\"n: \"))\n",
        "\n",
        "for i in range(n):\n",
        "  for j in range(i, n):\n",
        "    print(\" \", end = \" \")\n",
        "\n",
        "  for j in range(i):\n",
        "    print(\"*\", end = \" \")\n",
        "\n",
        "  for j in range(i + 1):\n",
        "    print(\"*\", end = \" \")\n",
        "  print()\n"
      ],
      "metadata": {
        "colab": {
          "base_uri": "https://localhost:8080/"
        },
        "id": "H-ucS4WzWaHO",
        "outputId": "6afdbc97-3ba5-45e7-e4d3-58f8ee74788b"
      },
      "execution_count": null,
      "outputs": [
        {
          "output_type": "stream",
          "name": "stdout",
          "text": [
            "n: 7\n",
            "              * \n",
            "            * * * \n",
            "          * * * * * \n",
            "        * * * * * * * \n",
            "      * * * * * * * * * \n",
            "    * * * * * * * * * * * \n",
            "  * * * * * * * * * * * * * \n"
          ]
        }
      ]
    },
    {
      "cell_type": "markdown",
      "source": [
        "--------------------------------------------------------------------------------"
      ],
      "metadata": {
        "id": "WQ2_OIf7XQwj"
      }
    },
    {
      "cell_type": "markdown",
      "source": [
        "### Reversed Pyramid"
      ],
      "metadata": {
        "id": "nACvK8nVYd06"
      }
    },
    {
      "cell_type": "code",
      "source": [
        "n = int(input(\"n: \"))\n",
        "\n",
        "for i in range(n):\n",
        "  for j in range(i + 1):\n",
        "    print(\" \", end = \" \")\n",
        "  for j in range(i, n - 1):\n",
        "    print(\"*\", end = \" \")\n",
        "  for j in range(i, n):\n",
        "    print(\"*\", end = \" \")\n",
        "  print()"
      ],
      "metadata": {
        "colab": {
          "base_uri": "https://localhost:8080/"
        },
        "id": "xaSCL9vgW1a2",
        "outputId": "33953cd1-00c9-4753-b730-0ce1699d5d13"
      },
      "execution_count": null,
      "outputs": [
        {
          "output_type": "stream",
          "name": "stdout",
          "text": [
            "n: 7\n",
            "  * * * * * * * * * * * * * \n",
            "    * * * * * * * * * * * \n",
            "      * * * * * * * * * \n",
            "        * * * * * * * \n",
            "          * * * * * \n",
            "            * * * \n",
            "              * \n"
          ]
        }
      ]
    },
    {
      "cell_type": "markdown",
      "source": [
        "--------------------------------------------------------------------------------"
      ],
      "metadata": {
        "id": "BCCoy5KUZT6K"
      }
    },
    {
      "cell_type": "markdown",
      "source": [
        "### Diamond"
      ],
      "metadata": {
        "id": "BPX1g8mWZU9B"
      }
    },
    {
      "cell_type": "code",
      "source": [
        "n = int(input(\"n:\"))\n",
        "\n",
        "for i in range(n - 1):\n",
        "  for j in range(i, n):\n",
        "    print(\" \", end = \" \")\n",
        "  for j in range(i):\n",
        "    print(\"*\", end = \" \")\n",
        "  for j in range(i + 1):\n",
        "    print(\"*\", end = \" \")\n",
        "  print()\n",
        "\n",
        "for i in range(n):\n",
        "  for j in range(i + 1):\n",
        "    print(\" \", end = \" \")\n",
        "  for j in range(i, n - 1):\n",
        "    print(\"*\", end = \" \")\n",
        "  for j in range(i, n):\n",
        "    print(\"*\", end = \" \")\n",
        "  print()"
      ],
      "metadata": {
        "colab": {
          "base_uri": "https://localhost:8080/"
        },
        "id": "o4bmWBNbY3bu",
        "outputId": "e0457eae-f69b-4c25-d39f-bba2480582cb"
      },
      "execution_count": null,
      "outputs": [
        {
          "output_type": "stream",
          "name": "stdout",
          "text": [
            "n:7\n",
            "              * \n",
            "            * * * \n",
            "          * * * * * \n",
            "        * * * * * * * \n",
            "      * * * * * * * * * \n",
            "    * * * * * * * * * * * \n",
            "  * * * * * * * * * * * * * \n",
            "    * * * * * * * * * * * \n",
            "      * * * * * * * * * \n",
            "        * * * * * * * \n",
            "          * * * * * \n",
            "            * * * \n",
            "              * \n"
          ]
        }
      ]
    },
    {
      "cell_type": "markdown",
      "source": [
        "--------------------------------------------------------------------------------"
      ],
      "metadata": {
        "id": "VrropuePaz8f"
      }
    },
    {
      "cell_type": "markdown",
      "source": [
        "### Left Pascals Triangle"
      ],
      "metadata": {
        "id": "SqLTMOefa1H4"
      }
    },
    {
      "cell_type": "code",
      "source": [
        "n = int(input(\"n: \"))\n",
        "\n",
        "for i in range(n - 1):\n",
        "  for j in range(i + 1):\n",
        "    print(\"*\", end = \" \")\n",
        "  print()\n",
        "\n",
        "for i in range(n):\n",
        "  for j in range(i, n):\n",
        "    print(\"*\", end = \" \")\n",
        "  print()"
      ],
      "metadata": {
        "colab": {
          "base_uri": "https://localhost:8080/"
        },
        "id": "68PPnXZ7aW9u",
        "outputId": "47a75391-79ee-4b85-9fdb-271f90121c35"
      },
      "execution_count": null,
      "outputs": [
        {
          "output_type": "stream",
          "name": "stdout",
          "text": [
            "n: 7\n",
            "* \n",
            "* * \n",
            "* * * \n",
            "* * * * \n",
            "* * * * * \n",
            "* * * * * * \n",
            "* * * * * * * \n",
            "* * * * * * \n",
            "* * * * * \n",
            "* * * * \n",
            "* * * \n",
            "* * \n",
            "* \n"
          ]
        }
      ]
    },
    {
      "cell_type": "markdown",
      "source": [
        "--------------------------------------------------------------------------------"
      ],
      "metadata": {
        "id": "uEDd_N_ZbrMj"
      }
    },
    {
      "cell_type": "markdown",
      "source": [
        "### Right Pascals Triangle"
      ],
      "metadata": {
        "id": "8lJ_Dtt4br6j"
      }
    },
    {
      "cell_type": "code",
      "source": [
        "n = int(input(\"n: \"))\n",
        "\n",
        "for i in range(n - 1):\n",
        "  for j in range(i, n):\n",
        "    print(\" \", end = \" \")\n",
        "  for j in range(i + 1):\n",
        "    print(\"*\", end = \" \")\n",
        "  print()\n",
        "\n",
        "for i in range(n):\n",
        "  for j in range(i + 1):\n",
        "    print(\" \", end = \" \")\n",
        "  for j in range(i, n):\n",
        "    print(\"*\", end = \" \")\n",
        "  print()\n"
      ],
      "metadata": {
        "colab": {
          "base_uri": "https://localhost:8080/"
        },
        "id": "E5vQU-DJbXF8",
        "outputId": "6cfeba2c-9cb7-4924-ebe8-67b272bd025a"
      },
      "execution_count": null,
      "outputs": [
        {
          "output_type": "stream",
          "name": "stdout",
          "text": [
            "n: 7\n",
            "              * \n",
            "            * * \n",
            "          * * * \n",
            "        * * * * \n",
            "      * * * * * \n",
            "    * * * * * * \n",
            "  * * * * * * * \n",
            "    * * * * * * \n",
            "      * * * * * \n",
            "        * * * * \n",
            "          * * * \n",
            "            * * \n",
            "              * \n"
          ]
        }
      ]
    },
    {
      "cell_type": "markdown",
      "source": [
        "--------------------------------------------------------------------------------"
      ],
      "metadata": {
        "id": "hLhK7kpHcf6v"
      }
    },
    {
      "cell_type": "markdown",
      "source": [
        "### SandGlass"
      ],
      "metadata": {
        "id": "bzRo8Z6hcgpt"
      }
    },
    {
      "cell_type": "code",
      "source": [
        "n = int(input(\"n: \"))\n",
        "\n",
        "for i in range(n - 1):\n",
        "  for j in range(i + 1):\n",
        "    print(\" \", end  = \" \")\n",
        "  for j in range(i, n - 1):\n",
        "    print(\"*\", end = \" \")\n",
        "  for j in range(i, n):\n",
        "    print(\"*\", end = \" \")\n",
        "  print()\n",
        "\n",
        "for i in range(n):\n",
        "  for j in range(i, n):\n",
        "    print(\" \", end = \" \")\n",
        "  for j in range(i):\n",
        "    print(\"*\", end = \" \")\n",
        "  for j in range(i + 1):\n",
        "    print(\"*\", end = \" \")\n",
        "  print()"
      ],
      "metadata": {
        "colab": {
          "base_uri": "https://localhost:8080/"
        },
        "id": "Lch5T7KNcYSc",
        "outputId": "79b26d26-4bb4-4d74-e0e9-6e346420c0e0"
      },
      "execution_count": null,
      "outputs": [
        {
          "output_type": "stream",
          "name": "stdout",
          "text": [
            "n: 7\n",
            "  * * * * * * * * * * * * * \n",
            "    * * * * * * * * * * * \n",
            "      * * * * * * * * * \n",
            "        * * * * * * * \n",
            "          * * * * * \n",
            "            * * * \n",
            "              * \n",
            "            * * * \n",
            "          * * * * * \n",
            "        * * * * * * * \n",
            "      * * * * * * * * * \n",
            "    * * * * * * * * * * * \n",
            "  * * * * * * * * * * * * * \n"
          ]
        }
      ]
    },
    {
      "cell_type": "markdown",
      "source": [
        "--------------------------------------------------------------------------------"
      ],
      "metadata": {
        "id": "iNXPKeBkfJej"
      }
    },
    {
      "cell_type": "markdown",
      "source": [
        "### Doubl Hill"
      ],
      "metadata": {
        "id": "s_HhlOkPfKhk"
      }
    },
    {
      "cell_type": "code",
      "source": [
        "n = int(input(\"n: \"))\n",
        "\n",
        "for i in range(n):\n",
        "  for j in range(i, n):\n",
        "    print(\" \", end = \" \")\n",
        "  for j in range(i):\n",
        "    print(\"*\", end = \" \")\n",
        "  for j in range(i + 1):\n",
        "    print(\"*\", end = \" \")\n",
        "  for j in range(i, n - 2):\n",
        "    print(\" \", end = \" \")\n",
        "\n",
        "  for j in range(i, n -1):\n",
        "    print(\" \", end = \" \")\n",
        "  for j in range(i):\n",
        "    print(\"*\", end = \" \")\n",
        "  for j in range(i + 1):\n",
        "    print(\"*\", end = \" \")\n",
        "  print()"
      ],
      "metadata": {
        "colab": {
          "base_uri": "https://localhost:8080/"
        },
        "id": "q-TJOpD2dEer",
        "outputId": "f51265d7-b9ac-4651-a0de-c8ad10d11795"
      },
      "execution_count": null,
      "outputs": [
        {
          "output_type": "stream",
          "name": "stdout",
          "text": [
            "n: 6\n",
            "            *                   * \n",
            "          * * *               * * * \n",
            "        * * * * *           * * * * * \n",
            "      * * * * * * *       * * * * * * * \n",
            "    * * * * * * * * *   * * * * * * * * * \n",
            "  * * * * * * * * * * * * * * * * * * * * * * \n"
          ]
        }
      ]
    },
    {
      "cell_type": "markdown",
      "source": [
        "--------------------------------------------------------------------------------"
      ],
      "metadata": {
        "id": "iRjAdG2RlRJj"
      }
    },
    {
      "cell_type": "markdown",
      "source": [
        "### Butterfly"
      ],
      "metadata": {
        "id": "PoomIgRus0Jy"
      }
    },
    {
      "cell_type": "code",
      "source": [
        "n = int(input(\"n: \"))\n",
        "\n",
        "for i in range(1, n + 1):\n",
        "    for j in range(i):\n",
        "        print(\"*\", end = \" \")\n",
        "    for j in range(2*(n - i)):\n",
        "        print(\" \", end = \" \")\n",
        "    for j in range(i):\n",
        "        print(\"*\", end = \" \")\n",
        "    print()\n",
        "\n",
        "\n",
        "for i in range(n, 0, -1):\n",
        "    for j in range(i):\n",
        "        print(\"*\", end = \" \")\n",
        "\n",
        "    for j in range(2 * (n - i)):\n",
        "        print(\" \", end = \" \")\n",
        "    for j in range(i):\n",
        "        print(\"*\", end = \" \")\n",
        "    print()"
      ],
      "metadata": {
        "colab": {
          "base_uri": "https://localhost:8080/"
        },
        "id": "BYE7qk86pG6U",
        "outputId": "d7036668-ea0e-43fd-efa1-f9418dfeddae"
      },
      "execution_count": null,
      "outputs": [
        {
          "output_type": "stream",
          "name": "stdout",
          "text": [
            "n: 7\n",
            "*                         * \n",
            "* *                     * * \n",
            "* * *                 * * * \n",
            "* * * *             * * * * \n",
            "* * * * *         * * * * * \n",
            "* * * * * *     * * * * * * \n",
            "* * * * * * * * * * * * * * \n",
            "* * * * * * * * * * * * * * \n",
            "* * * * * *     * * * * * * \n",
            "* * * * *         * * * * * \n",
            "* * * *             * * * * \n",
            "* * *                 * * * \n",
            "* *                     * * \n",
            "*                         * \n"
          ]
        }
      ]
    },
    {
      "cell_type": "code",
      "source": [
        "n = int(input(\"n: \"))\n",
        "\n",
        "for i in range(n):\n",
        "  for j in range(i + 1):\n",
        "    print(\"*\", end = \" \")\n",
        "\n",
        "  for j in range(i, n):\n",
        "    print(\".\", end = \" \")\n",
        "  for j in range(i, n -1):\n",
        "    print(\",\", end = \" \")\n",
        "\n",
        "  for j in range(i + 1):\n",
        "    print(\"*\", end = \" \")\n",
        "  print()\n",
        "\n",
        "for i in range(n +1):\n",
        "  for j in range(i, n + 1):\n",
        "    print(\"*\", end = \" \")\n",
        "\n",
        "  for j in range(i - 1):\n",
        "    print(\".\", end = \" \")\n",
        "  for j in range(i):\n",
        "    print(\",\", end = \" \")\n",
        "\n",
        "  for j in range(i, n +1):\n",
        "    print(\"*\", end = \" \")\n",
        "  print()\n"
      ],
      "metadata": {
        "colab": {
          "base_uri": "https://localhost:8080/"
        },
        "id": "k35XKnB0s2nX",
        "outputId": "bd6a27e2-ec9e-4eb1-baf5-754c90b30b08"
      },
      "execution_count": null,
      "outputs": [
        {
          "output_type": "stream",
          "name": "stdout",
          "text": [
            "n: 7\n",
            "* . . . . . . . , , , , , , * \n",
            "* * . . . . . . , , , , , * * \n",
            "* * * . . . . . , , , , * * * \n",
            "* * * * . . . . , , , * * * * \n",
            "* * * * * . . . , , * * * * * \n",
            "* * * * * * . . , * * * * * * \n",
            "* * * * * * * . * * * * * * * \n",
            "* * * * * * * * * * * * * * * * \n",
            "* * * * * * * , * * * * * * * \n",
            "* * * * * * . , , * * * * * * \n",
            "* * * * * . . , , , * * * * * \n",
            "* * * * . . . , , , , * * * * \n",
            "* * * . . . . , , , , , * * * \n",
            "* * . . . . . , , , , , , * * \n",
            "* . . . . . . , , , , , , , * \n"
          ]
        }
      ]
    },
    {
      "cell_type": "code",
      "source": [
        "n = int(input(\"n: \"))\n",
        "\n",
        "for i in range(n):\n",
        "  for j in range(i + 1):\n",
        "    print(\"*\", end = \" \")\n",
        "\n",
        "  for j in range(i, n):\n",
        "    print(\" \", end = \" \")\n",
        "  for j in range(i, n -1):\n",
        "    print(\" \", end = \" \")\n",
        "\n",
        "  for j in range(i + 1):\n",
        "    print(\"*\", end = \" \")\n",
        "  print()\n",
        "\n",
        "for i in range(n +1):\n",
        "  for j in range(i, n + 1):\n",
        "    print(\"*\", end = \" \")\n",
        "\n",
        "  for j in range(i - 1):\n",
        "    print(\" \", end = \" \")\n",
        "  for j in range(i):\n",
        "    print(\" \", end = \" \")\n",
        "\n",
        "  for j in range(i, n +1):\n",
        "    print(\"*\", end = \" \")\n",
        "  print()\n"
      ],
      "metadata": {
        "colab": {
          "base_uri": "https://localhost:8080/"
        },
        "id": "tRdACFRfuGat",
        "outputId": "20f397fc-cd49-4364-bddb-5a0994c0e8e7"
      },
      "execution_count": null,
      "outputs": [
        {
          "output_type": "stream",
          "name": "stdout",
          "text": [
            "n: 7\n",
            "*                           * \n",
            "* *                       * * \n",
            "* * *                   * * * \n",
            "* * * *               * * * * \n",
            "* * * * *           * * * * * \n",
            "* * * * * *       * * * * * * \n",
            "* * * * * * *   * * * * * * * \n",
            "* * * * * * * * * * * * * * * * \n",
            "* * * * * * *   * * * * * * * \n",
            "* * * * * *       * * * * * * \n",
            "* * * * *           * * * * * \n",
            "* * * *               * * * * \n",
            "* * *                   * * * \n",
            "* *                       * * \n",
            "*                           * \n"
          ]
        }
      ]
    },
    {
      "cell_type": "code",
      "source": [
        "n = int(input(\"n: \"))\n",
        "\n",
        "for i in range(1, n + 1):\n",
        "  for j in range(i):\n",
        "    print(\"*\", end = \" \")\n",
        "\n",
        "  for j in range(2 * (n - i)):\n",
        "    print(\".\", end = \" \")\n",
        "\n",
        "  for j in range(i):\n",
        "    print(\"*\", end = \" \")\n",
        "  print()\n",
        "\n",
        "for i in range(n):\n",
        "  for j in range(i, n):\n",
        "    print(\"*\", end = \" \")\n",
        "  for j in range(2 * (i)):\n",
        "    print(\".\", end = \" \")\n",
        "  for j in range(i, n):\n",
        "    print(\"*\", end = \" \")\n",
        "  print()"
      ],
      "metadata": {
        "colab": {
          "base_uri": "https://localhost:8080/"
        },
        "id": "NuAqkKbbzBmP",
        "outputId": "89c23eac-00bf-48ec-eff4-6f561bc8c80e"
      },
      "execution_count": null,
      "outputs": [
        {
          "output_type": "stream",
          "name": "stdout",
          "text": [
            "n: 7\n",
            "* . . . . . . . . . . . . * \n",
            "* * . . . . . . . . . . * * \n",
            "* * * . . . . . . . . * * * \n",
            "* * * * . . . . . . * * * * \n",
            "* * * * * . . . . * * * * * \n",
            "* * * * * * . . * * * * * * \n",
            "* * * * * * * * * * * * * * \n",
            "* * * * * * * * * * * * * * \n",
            "* * * * * * . . * * * * * * \n",
            "* * * * * . . . . * * * * * \n",
            "* * * * . . . . . . * * * * \n",
            "* * * . . . . . . . . * * * \n",
            "* * . . . . . . . . . . * * \n",
            "* . . . . . . . . . . . . * \n"
          ]
        }
      ]
    },
    {
      "cell_type": "code",
      "source": [
        "n = int(input(\"n: \"))\n",
        "\n",
        "for i in range(1, n + 1):\n",
        "  for j in range(i):\n",
        "    print(\"*\", end = \" \")\n",
        "\n",
        "  for j in range(2 * (n - i) + 1):\n",
        "    print(\".\", end = \" \")\n",
        "\n",
        "  for j in range(i):\n",
        "    print(\"*\", end = \" \")\n",
        "  print()\n",
        "\n",
        "print(\"* \" * (2 * n + 1))\n",
        "\n",
        "for i in range(n):\n",
        "  for j in range(i, n):\n",
        "    print(\"*\", end = \" \")\n",
        "  for j in range(2 * (i) + 1):\n",
        "    print(\".\", end = \" \")\n",
        "  for j in range(i, n):\n",
        "    print(\"*\", end = \" \")\n",
        "  print()"
      ],
      "metadata": {
        "colab": {
          "base_uri": "https://localhost:8080/"
        },
        "id": "at_66AS84bhK",
        "outputId": "f206d3e0-e562-44a4-8273-c8f22ba688c8"
      },
      "execution_count": null,
      "outputs": [
        {
          "output_type": "stream",
          "name": "stdout",
          "text": [
            "n: 7\n",
            "* . . . . . . . . . . . . . * \n",
            "* * . . . . . . . . . . . * * \n",
            "* * * . . . . . . . . . * * * \n",
            "* * * * . . . . . . . * * * * \n",
            "* * * * * . . . . . * * * * * \n",
            "* * * * * * . . . * * * * * * \n",
            "* * * * * * * . * * * * * * * \n",
            "* * * * * * * * * * * * * * * \n",
            "* * * * * * * . * * * * * * * \n",
            "* * * * * * . . . * * * * * * \n",
            "* * * * * . . . . . * * * * * \n",
            "* * * * . . . . . . . * * * * \n",
            "* * * . . . . . . . . . * * * \n",
            "* * . . . . . . . . . . . * * \n",
            "* . . . . . . . . . . . . . * \n"
          ]
        }
      ]
    },
    {
      "cell_type": "code",
      "source": [],
      "metadata": {
        "id": "PGbcCC-4O3JD"
      },
      "execution_count": null,
      "outputs": []
    }
  ]
}