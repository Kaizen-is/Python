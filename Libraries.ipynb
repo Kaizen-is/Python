{
  "nbformat": 4,
  "nbformat_minor": 0,
  "metadata": {
    "colab": {
      "provenance": []
    },
    "kernelspec": {
      "name": "python3",
      "display_name": "Python 3"
    },
    "language_info": {
      "name": "python"
    }
  },
  "cells": [
    {
      "cell_type": "markdown",
      "source": [
        "### Functions"
      ],
      "metadata": {
        "id": "cVFi1vujPoLg"
      }
    },
    {
      "cell_type": "markdown",
      "source": [
        "\n",
        "\n",
        "---\n",
        "\n"
      ],
      "metadata": {
        "id": "8KNsKWG2Jzlq"
      }
    },
    {
      "cell_type": "markdown",
      "source": [
        "###`NumPy`"
      ],
      "metadata": {
        "id": "gVjFeJu0J1JV"
      }
    },
    {
      "cell_type": "code",
      "source": [
        "import numpy as np"
      ],
      "metadata": {
        "id": "taer-jJiOmfr"
      },
      "execution_count": null,
      "outputs": []
    },
    {
      "cell_type": "code",
      "source": [
        "np.array   # creating an array from the list\n",
        "\n",
        "np.zeros(shape = ..)  # array which will we filled with 0 in an appropriate shape that will be given\n",
        "\n",
        "np.ones(shape = ..)   # same with np zeros with the difference of 1 not 0\n",
        "\n",
        "np.arange(start, stop, step)  #   an array in the range that is given\n",
        "\n",
        "np.linspace(star, stop, step)  #   spaced numbers being different from arange as arange has steps between elements\n",
        "\n",
        "np.random.other funcs    # generates random int/float nums in a shape that is given, random ints/floats in range\n",
        "\n",
        "\n",
        "array.shape   #  2x2, 4x2\n",
        "\n",
        "array.ndim    # 2d, 3d\n",
        "\n",
        "array.size    # amount of elements\n",
        "\n",
        "array.dtype   # data type of an array\n",
        "\n",
        "\n",
        "np.add()      # +\n",
        "\n",
        "np.substract()# -\n",
        "\n",
        "np.multiply() # *\n",
        "\n",
        "np.sqrt()     # square\n",
        "\n",
        "np.log()      # log of els\n",
        "ETC.\n",
        "\n",
        "\n",
        "\n",
        "\n",
        "np.min()/max()/sum().mean()/median()/std()/var()   #  Aggregations\n",
        "\n",
        "\n",
        "arr.reshape()     # arr = size: 12, can be reshaped as 3 rows and 4 columns\n",
        "\n",
        "arr.flatten()/arr.ravel()    # 2d/3d =>  1d\n",
        "\n",
        "arr.T             # Transpose\n",
        "\n",
        "\n",
        "\n",
        "np.unique(arr)   # all the unique values in an array\n",
        "\n",
        "np.sort()        # sort array vals\n",
        "\n",
        "np.argsort()     # sort indexes\n",
        "\n",
        "np.where(cond, x, y)   # selection according to the condition\n",
        "\n",
        "np.isnan(arr)   # nan cheeeck, return T/F\n",
        "\n",
        "np.isinf(arr)   # check infinity\n"
      ],
      "metadata": {
        "id": "om20jxVrJ6sp"
      },
      "execution_count": null,
      "outputs": []
    },
    {
      "cell_type": "markdown",
      "source": [
        "\n",
        "\n",
        "---\n",
        "\n"
      ],
      "metadata": {
        "id": "RlbrklfNOUqg"
      }
    },
    {
      "cell_type": "markdown",
      "source": [
        "### `Pandas`"
      ],
      "metadata": {
        "id": "dqewZ3foOV8x"
      }
    },
    {
      "cell_type": "code",
      "source": [
        "import pandas as pd"
      ],
      "metadata": {
        "id": "vaqOhcroOjsB"
      },
      "execution_count": 2,
      "outputs": []
    },
    {
      "cell_type": "code",
      "source": [
        "pd.Series(data)       # 1d array with lables\n",
        "\n",
        "pd.DataFrame(data)    # 2d table loking the same as excel tables\n",
        "\n",
        "\n",
        "\n",
        "\n",
        "df = pd.DataFrame(data)  => table\n",
        "\n",
        "df.head(n)            # prints first n rows\n",
        "\n",
        "df.tail(n)            # prints last n rows\n",
        "\n",
        "df.shape              # rows and columns\n",
        "\n",
        "df.info()             # info relating to the table: columns data types, nulls etc.\n",
        "\n",
        "df.describe()         # result of a statistical calculations, min, max etc.\n",
        "\n",
        "df.dtypes             # data types\n",
        "\n",
        "df.columns            # column names\n",
        "\n",
        "df.index              # row indexes\n",
        "\n",
        "\n",
        "\n",
        "\n",
        "df.loc[row_index, col_name]   # based on column name\n",
        "\n",
        "df.iloc[row_index, col_index] # based on column index\n",
        "\n",
        "\n",
        "\n",
        "\n",
        "df.isnull()           # checks for null cells\n",
        "\n",
        "df.notnull()          # checks fir non nulls cells\n",
        "\n",
        "df.dropna()           # deops rows with null cells\n",
        "\n",
        "df.fillna(value)      # fills null cells with teh value given\n",
        "\n",
        "df.drop(columns = ['column name'])   # derops a column\n",
        "\n",
        "df.rename(columns = {'old name':'new name'})   # renames a column name\n",
        "\n",
        "\n",
        "\n",
        "\n",
        "df['column name'].sum()/mean()/min()/max()\n",
        "\n",
        "df['column name'].value_counts()     # used to cound values in a column\n",
        "\n",
        "df['column name'].unique()           # all the unique values in a column\n",
        "\n",
        "df['column name'].nunique()          # amount of unique values\n",
        "\n",
        "\n",
        "\n",
        "\n",
        "df.sort_values('col')    # sorting ny column\n",
        "\n",
        "df.sort_index()          # sort by undex\n",
        "\n",
        "\n",
        "\n",
        "\n",
        "df.groupby('col')['col'].mean()    # average through ['col'] grouping by ('col')\n",
        "\n",
        "df.agg({'col':mean, 'col1':sum})\n",
        "\n",
        "df['col'].agg(['mean', 'sum'])\n",
        "\n",
        "\n",
        "\n",
        "\n",
        "pd.concat([df1, df2])   # concatenating two dataframes\n",
        "\n",
        "df1.merge(df2, on = 'key', how = 'outer')  # default: inner, joinin teo dataframes using foreign key\n",
        "\n",
        "df1.join(df2)           # join on index\n",
        "\n",
        "\n",
        "\n",
        "\n",
        "# Reading files\n",
        "\n",
        "pd.read_csv/df.to_csv('file.csv')\n",
        "\n",
        "pd.read_excel/df.to_excel('file.xlsx')\n",
        "\n",
        "pd.read_sql(query, conn)\n",
        "\n",
        "pd.read_html('https..')\n",
        "\n",
        "pd.HDFStore('Data.h5')\n",
        "\n",
        "\n",
        "\n",
        "\n",
        "import sqlite3 as sql\n",
        "\n",
        "db = sql.connect('samle.db')    # conneting to the data base\n",
        "cursor = db.cursor()            # connecting cursor\n",
        "\n",
        "cursor.execute(\"select name from sqlite_master where type = 'table';\")    # table names in db\n",
        "cursor.fetchall()               # fetch all results\n",
        "\n",
        "cursor.fetchany(n)              # fetching any n res\n",
        "\n",
        "cursor.fetchone()               # fetching one res\n",
        "\n",
        "\n",
        "\n",
        "\n",
        "\n",
        "cursor.execute(\"pragma table_info('column name')\")   # info related to the table, dtype, non etc.\n",
        "cursor.fetchall()\n",
        "\n",
        "\n",
        "\n",
        "\n",
        "\n",
        "db.commit()                     # is used to make changes to the table, we are not reading query  or getting table info: deleting, inserting, creating\n",
        "\n",
        "cursor.execute(\"\"\"\n",
        "insert into users('col1', col2)\n",
        "values......\n",
        "\"\"\")\n",
        "db.commit()\n"
      ],
      "metadata": {
        "id": "duJjE96qOqLt"
      },
      "execution_count": null,
      "outputs": []
    },
    {
      "cell_type": "markdown",
      "source": [
        "\n",
        "\n",
        "---\n",
        "\n"
      ],
      "metadata": {
        "id": "hutCtH1yXmoy"
      }
    },
    {
      "cell_type": "markdown",
      "source": [
        "### `MatPlotLib`"
      ],
      "metadata": {
        "id": "EnhhPpylXpKW"
      }
    },
    {
      "cell_type": "code",
      "source": [
        "import matplotlib as mpl\n",
        "import matplotlib.pyplot as plt\n",
        "\n",
        "\n",
        "%matplotlib inline              #  allows to see a graph right in the cell(Jupyternotebooks)\n",
        "\n",
        "\n",
        "\n",
        "plt.plot(x, y)                  # plot is a line graph. x, y is a cordinates\n",
        "\n",
        "plt.ylable('name')              # title for y axis\n",
        "\n",
        "plt.xlable('name')              # title for x axis\n",
        "\n",
        "plt.title('name')               # title for a whole graph\n",
        "\n",
        "\n",
        "\n",
        "\n",
        "plt.plot(x, y, 'or')\n",
        "\"b\"                             # blue markers with default shape\n",
        "\n",
        "\"or\"                            # red circles\n",
        "\n",
        "\"-g\"                            # green solid line\n",
        "\n",
        "\"--\"                            # dashed line with default color\n",
        "\n",
        "\"^k\"                            # black triangle_up merkers connected by dotted line\n",
        "\n",
        "plt.axis()                      # (x_min, x_max, y_min, y_max)\n",
        "\n",
        "\n",
        "\n",
        "\n",
        "plt.figure()                    # creating a free figure, canvas\n",
        "\n",
        "fig = plt.figure()\n",
        "fig.add_sunplot(2, 2, 1)        # adding a 2x2 plot to postion 1\n",
        "\n",
        "fig.patch.set_edgcolor('color name')  # setting and edge color to our figure\n",
        "\n",
        "fig.patch.set_linewidth(1/2)    # setting an exact linewidth\n",
        "\n",
        "\n",
        "\n",
        "\n",
        "plt.plot(data, color = 'green',  linestyle = '--', alpha = in range(0, 1))    # alpha: trancparency of the graph line bar etc\n",
        "\n",
        "graph.patches[7].remove()       # removing a dot, bar, line from the figure\n",
        "\n",
        "\n",
        "\n",
        "\n",
        "\n",
        "plt.scatter([1, 2, 3, 4], [4, 3, 2, 1])   # creating a scatter graph"
      ],
      "metadata": {
        "id": "3rN6xrMAVK_Z"
      },
      "execution_count": null,
      "outputs": []
    },
    {
      "cell_type": "markdown",
      "source": [
        "\n",
        "\n",
        "---\n",
        "\n"
      ],
      "metadata": {
        "id": "A8usCIu6e8O0"
      }
    },
    {
      "cell_type": "code",
      "source": [
        "import numpy as np\n",
        "import pandas as pd\n",
        "\n",
        "def explain_me(func: str):\n",
        "    if func.startswith(\"np.\"):\n",
        "        name = func[3:]\n",
        "        if hasattr(np, name):\n",
        "            return help(getattr(np, name))\n",
        "        else:\n",
        "            return f'module \"numpy\" has no attribute \"{name}\"'\n",
        "\n",
        "    elif func.startswith(\"pd.\"):\n",
        "        name = func[3:]\n",
        "        if hasattr(pd, name):\n",
        "            return help(getattr(pd, name))\n",
        "        else:\n",
        "            return f'module \"pandas\" has no attribute \"{name}\"'\n",
        "\n",
        "    else:\n",
        "        return help(func)\n",
        "\n",
        "print(explain_me(\"pd.Series\"))\n",
        "\n"
      ],
      "metadata": {
        "id": "8BzHoDnbfBR-"
      },
      "execution_count": 51,
      "outputs": []
    },
    {
      "cell_type": "code",
      "source": [
        "print(explain_me('np.abs'))"
      ],
      "metadata": {
        "colab": {
          "base_uri": "https://localhost:8080/"
        },
        "id": "4u2gjWS5kKsk",
        "outputId": "ca9bb958-b517-468e-8322-00f4e508729a"
      },
      "execution_count": 46,
      "outputs": [
        {
          "output_type": "stream",
          "name": "stdout",
          "text": [
            "Help on ufunc:\n",
            "\n",
            "absolute = <ufunc 'absolute'>\n",
            "    absolute(x, /, out=None, *, where=True, casting='same_kind', order='K', dtype=None, subok=True[, signature])\n",
            "    \n",
            "    Calculate the absolute value element-wise.\n",
            "    \n",
            "    ``np.abs`` is a shorthand for this function.\n",
            "    \n",
            "    Parameters\n",
            "    ----------\n",
            "    x : array_like\n",
            "        Input array.\n",
            "    out : ndarray, None, or tuple of ndarray and None, optional\n",
            "        A location into which the result is stored. If provided, it must have\n",
            "        a shape that the inputs broadcast to. If not provided or None,\n",
            "        a freshly-allocated array is returned. A tuple (possible only as a\n",
            "        keyword argument) must have length equal to the number of outputs.\n",
            "    where : array_like, optional\n",
            "        This condition is broadcast over the input. At locations where the\n",
            "        condition is True, the `out` array will be set to the ufunc result.\n",
            "        Elsewhere, the `out` array will retain its original value.\n",
            "        Note that if an uninitialized `out` array is created via the default\n",
            "        ``out=None``, locations within it where the condition is False will\n",
            "        remain uninitialized.\n",
            "    **kwargs\n",
            "        For other keyword-only arguments, see the\n",
            "        :ref:`ufunc docs <ufuncs.kwargs>`.\n",
            "    \n",
            "    Returns\n",
            "    -------\n",
            "    absolute : ndarray\n",
            "        An ndarray containing the absolute value of\n",
            "        each element in `x`.  For complex input, ``a + ib``, the\n",
            "        absolute value is :math:`\\sqrt{ a^2 + b^2 }`.\n",
            "        This is a scalar if `x` is a scalar.\n",
            "    \n",
            "    Examples\n",
            "    --------\n",
            "    >>> x = np.array([-1.2, 1.2])\n",
            "    >>> np.absolute(x)\n",
            "    array([ 1.2,  1.2])\n",
            "    >>> np.absolute(1.2 + 1j)\n",
            "    1.5620499351813308\n",
            "    \n",
            "    Plot the function over ``[-10, 10]``:\n",
            "    \n",
            "    >>> import matplotlib.pyplot as plt\n",
            "    \n",
            "    >>> x = np.linspace(start=-10, stop=10, num=101)\n",
            "    >>> plt.plot(x, np.absolute(x))\n",
            "    >>> plt.show()\n",
            "    \n",
            "    Plot the function over the complex plane:\n",
            "    \n",
            "    >>> xx = x + 1j * x[:, np.newaxis]\n",
            "    >>> plt.imshow(np.abs(xx), extent=[-10, 10, -10, 10], cmap='gray')\n",
            "    >>> plt.show()\n",
            "    \n",
            "    The `abs` function can be used as a shorthand for ``np.absolute`` on\n",
            "    ndarrays.\n",
            "    \n",
            "    >>> x = np.array([-1.2, 1.2])\n",
            "    >>> abs(x)\n",
            "    array([1.2, 1.2])\n",
            "\n",
            "None\n"
          ]
        }
      ]
    },
    {
      "cell_type": "code",
      "source": [
        "print(explain_me('sum'))"
      ],
      "metadata": {
        "colab": {
          "base_uri": "https://localhost:8080/"
        },
        "id": "ZmF88a6jgQuU",
        "outputId": "bf1ffe68-da07-456b-fcdd-0f10cea726b0"
      },
      "execution_count": 44,
      "outputs": [
        {
          "output_type": "stream",
          "name": "stdout",
          "text": [
            "Help on built-in function sum in module builtins:\n",
            "\n",
            "sum(iterable, /, start=0)\n",
            "    Return the sum of a 'start' value (default: 0) plus an iterable of numbers\n",
            "    \n",
            "    When the iterable is empty, return the start value.\n",
            "    This function is intended specifically for use with numeric values and may\n",
            "    reject non-numeric types.\n",
            "\n",
            "None\n"
          ]
        }
      ]
    },
    {
      "cell_type": "markdown",
      "source": [
        "\n",
        "\n",
        "---\n",
        "\n"
      ],
      "metadata": {
        "id": "Bj18sUGqkcgr"
      }
    },
    {
      "cell_type": "code",
      "source": [
        "res = []\n",
        "def count_learn(func):\n",
        "  res.append(func)\n",
        "  return f'Functions you know are {res}'\n",
        "\n",
        "\n",
        "print(count_learn(\"np.mean()\"))\n",
        "print(count_learn(\"np.std()\"))\n",
        "print(count_learn(\"pd.Series()\"))"
      ],
      "metadata": {
        "colab": {
          "base_uri": "https://localhost:8080/"
        },
        "id": "6OmcoL3OhKtS",
        "outputId": "7feeb7f8-c411-4fd2-c3d1-6541884badd6"
      },
      "execution_count": 50,
      "outputs": [
        {
          "output_type": "stream",
          "name": "stdout",
          "text": [
            "Functions you know are ['np.mean()']\n",
            "Functions you know are ['np.mean()', 'np.std()']\n",
            "Functions you know are ['np.mean()', 'np.std()', 'pd.Series()']\n"
          ]
        }
      ]
    }
  ]
}